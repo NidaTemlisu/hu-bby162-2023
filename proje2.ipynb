{
  "nbformat": 4,
  "nbformat_minor": 0,
  "metadata": {
    "colab": {
      "provenance": [],
      "authorship_tag": "ABX9TyP57afCdS6HMJiLsKxqpl4S",
      "include_colab_link": true
    },
    "kernelspec": {
      "name": "python3",
      "display_name": "Python 3"
    },
    "language_info": {
      "name": "python"
    }
  },
  "cells": [
    {
      "cell_type": "markdown",
      "metadata": {
        "id": "view-in-github",
        "colab_type": "text"
      },
      "source": [
        "<a href=\"https://colab.research.google.com/github/NidaTemlisu/hu-bby162-2023/blob/main/proje2.ipynb\" target=\"_parent\"><img src=\"https://colab.research.google.com/assets/colab-badge.svg\" alt=\"Open In Colab\"/></a>"
      ]
    },
    {
      "cell_type": "code",
      "source": [
        "import random\n",
        "\n",
        "kelimeler = [\"aslan\", \"yengeç\", \"oğlak\", \"akrep\"]\n",
        "\n",
        "def adam_asmaca():\n",
        "    canlar = {\"Kolay\": 5, \"Orta\": 3, \"Zor\": 1}\n",
        "    while True:\n",
        "        seviye = input(\"Seviyeyi seçiniz (Kolay, Orta, Zor): \")\n",
        "        if seviye in canlar:\n",
        "            adamCan = canlar[seviye]\n",
        "            break\n",
        "        else:\n",
        "            print(\"Geçersiz! Tekrar deneyiniz.\")\n",
        "    \n",
        "    kategori = random.choice(kelimeler)\n",
        "    secilenKelime = random.choice(kelimeler)\n",
        "    dizilenKelime = [\"_\" for harf in secilenKelime]\n",
        "    \n",
        "    print(\"Kategori: \", kategori)\n",
        "    print(\"İpucu: Kelimenin uzunluğu\", len(secilenKelime))\n",
        "    print(dizilenKelime)\n",
        "    \n",
        "    while adamCan > 0:\n",
        "        girilenHarf = input(\"Harf giriniz: \").lower()\n",
        "        if girilenHarf in secilenKelime:\n",
        "            for i in range(len(secilenKelime)):\n",
        "                if secilenKelime[i] == girilenHarf:\n",
        "                    dizilenKelime[i] = girilenHarf\n",
        "            if \"_\" not in dizilenKelime:\n",
        "                print(\"Tebrikler! Kelimeyi doğru bildiniz.\")\n",
        "                break\n",
        "        else:\n",
        "            adamCan -= 1\n",
        "            print(\"Yanlış bildiniz! Kalan can:\", adamCan)\n",
        "        \n",
        "        print(dizilenKelime)\n",
        "    \n",
        "    if adamCan == 0:\n",
        "        print(\"Canlarınız tükendi. Doğru kelime:\", secilenKelime)\n",
        "    \n",
        "    yenidenOyna = input(\"Tekrar oynamak ister misiniz? (E/H)\").lower()\n",
        "    if yenidenOyna == \"e\":\n",
        "        adam_asmaca()\n",
        "    else:\n",
        "        print(\"Oyun bitti, teşekkürler!\")\n",
        "    \n",
        "adam_asmaca()"
      ],
      "metadata": {
        "colab": {
          "base_uri": "https://localhost:8080/"
        },
        "id": "rnjhtGGLxTb9",
        "outputId": "c2866098-3acc-454e-ea01-fc995a96b389"
      },
      "execution_count": 4,
      "outputs": [
        {
          "output_type": "stream",
          "name": "stdout",
          "text": [
            "Seviyeyi seçiniz (Kolay, Orta, Zor): Kolay\n",
            "Kategori:  oğlak\n",
            "İpucu: Kelimenin uzunluğu 5\n",
            "['_', '_', '_', '_', '_']\n",
            "Harf giriniz: A\n",
            "['a', '_', '_', 'a', '_']\n",
            "Harf giriniz: s\n",
            "['a', 's', '_', 'a', '_']\n",
            "Harf giriniz: l\n",
            "['a', 's', 'l', 'a', '_']\n",
            "Harf giriniz: n\n",
            "Tebrikler! Kelimeyi doğru bildiniz.\n",
            "Tekrar oynamak ister misiniz? (E/H)h\n",
            "Oyun bitti, teşekkürler!\n"
          ]
        }
      ]
    }
  ]
}