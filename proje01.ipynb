{
  "nbformat": 4,
  "nbformat_minor": 0,
  "metadata": {
    "colab": {
      "provenance": [],
      "authorship_tag": "ABX9TyPAItkPfZ84tfuenkXMWjxv",
      "include_colab_link": true
    },
    "kernelspec": {
      "name": "python3",
      "display_name": "Python 3"
    },
    "language_info": {
      "name": "python"
    }
  },
  "cells": [
    {
      "cell_type": "markdown",
      "metadata": {
        "id": "view-in-github",
        "colab_type": "text"
      },
      "source": [
        "<a href=\"https://colab.research.google.com/github/NidaTemlisu/hu-bby162-2023/blob/main/proje01.ipynb\" target=\"_parent\"><img src=\"https://colab.research.google.com/assets/colab-badge.svg\" alt=\"Open In Colab\"/></a>"
      ]
    },
    {
      "cell_type": "code",
      "execution_count": null,
      "metadata": {
        "colab": {
          "base_uri": "https://localhost:8080/"
        },
        "id": "lkgCi-hoY61E",
        "outputId": "5e945277-ac12-44b2-993b-dcb0d42134f9"
      },
      "outputs": [
        {
          "output_type": "stream",
          "name": "stdout",
          "text": [
            "['İstanbul', 'Trabzon', 'Mardin', 'Çanakkale', 'İzmir']\n"
          ]
        }
      ],
      "source": [
        "# Bu Yaz Gezilecek Şehirler Listesi Hazırlayalım !\n",
        "şehirler = [\"İstanbul\", \"Trabzon\", \"Mardin\", \"Çanakkale\", \"İzmir\"]\n",
        "print(şehirler)\n",
        "\n",
        "\n"
      ]
    },
    {
      "cell_type": "code",
      "source": [
        "# Yeni Şehirler Ekleyelim !\n",
        "şehirler += [\"Muğla\", \"Rize\"]\n",
        "print(şehirler)\n"
      ],
      "metadata": {
        "colab": {
          "base_uri": "https://localhost:8080/"
        },
        "id": "84G668Z8jN_B",
        "outputId": "cd3c4754-5011-4ae3-cc96-729abb663699"
      },
      "execution_count": null,
      "outputs": [
        {
          "output_type": "stream",
          "name": "stdout",
          "text": [
            "['İstanbul', 'Trabzon', 'Mardin', 'Çanakkale', 'İzmir', 'Muğla', 'Rize']\n"
          ]
        }
      ]
    },
    {
      "cell_type": "code",
      "source": [
        "# Yeni Şehirleri Buraya Ekleyelim !\n",
        "şehirler = [\"İstanbul\", \"Trabzon\", \"Mardin\", \"Çanakkale\", \"İzmir\"]\n",
        "yenişehirler = input(\"Şehir Ekleyiniz: \")\n",
        "şehirler.append(yenişehirler)\n",
        "print(şehirler)\n"
      ],
      "metadata": {
        "id": "ex6nrh-70pp_",
        "colab": {
          "base_uri": "https://localhost:8080/"
        },
        "outputId": "04ce3983-263e-4f70-b679-8fd018f6c9da"
      },
      "execution_count": 5,
      "outputs": [
        {
          "output_type": "stream",
          "name": "stdout",
          "text": [
            "Şehir Ekleyiniz: Ankara\n",
            "['İstanbul', 'Trabzon', 'Mardin', 'Çanakkale', 'İzmir', 'Ankara']\n"
          ]
        }
      ]
    },
    {
      "cell_type": "code",
      "source": [
        "# Gezilenleri Sil !\n",
        "şehirler[2:3] = []\n",
        "print(şehirler)"
      ],
      "metadata": {
        "colab": {
          "base_uri": "https://localhost:8080/"
        },
        "id": "nCzafPfFjrUj",
        "outputId": "fea1e653-18db-42e8-fe8b-87c8e41c4ff8"
      },
      "execution_count": null,
      "outputs": [
        {
          "output_type": "stream",
          "name": "stdout",
          "text": [
            "['İstanbul', 'Trabzon', 'Çanakkale', 'İzmir', 'Muğla', 'Rize']\n"
          ]
        }
      ]
    },
    {
      "cell_type": "code",
      "source": [
        "# Hepsi Gezildiğinde Tüm Listeyi Sil !\n",
        "şehirler[:] = []\n",
        "print(şehirler)\n"
      ],
      "metadata": {
        "colab": {
          "base_uri": "https://localhost:8080/"
        },
        "id": "yB_zpPKJkaOl",
        "outputId": "f6965747-236c-456a-ddc0-14bef5ff7602"
      },
      "execution_count": null,
      "outputs": [
        {
          "output_type": "stream",
          "name": "stdout",
          "text": [
            "[]\n"
          ]
        }
      ]
    }
  ]
}