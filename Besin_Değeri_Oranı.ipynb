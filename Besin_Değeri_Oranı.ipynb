{
  "nbformat": 4,
  "nbformat_minor": 0,
  "metadata": {
    "colab": {
      "provenance": [],
      "authorship_tag": "ABX9TyMMuseq8JV5pxpHFSxAHil/",
      "include_colab_link": true
    },
    "kernelspec": {
      "name": "python3",
      "display_name": "Python 3"
    },
    "language_info": {
      "name": "python"
    }
  },
  "cells": [
    {
      "cell_type": "markdown",
      "metadata": {
        "id": "view-in-github",
        "colab_type": "text"
      },
      "source": [
        "<a href=\"https://colab.research.google.com/github/NidaTemlisu/hu-bby162-2023/blob/main/Besin_De%C4%9Feri_Oran%C4%B1.ipynb\" target=\"_parent\"><img src=\"https://colab.research.google.com/assets/colab-badge.svg\" alt=\"Open In Colab\"/></a>"
      ]
    },
    {
      "cell_type": "code",
      "source": [
        "!pip install pandas scikit-learn numpy"
      ],
      "metadata": {
        "colab": {
          "base_uri": "https://localhost:8080/"
        },
        "id": "RTsE8NvnZFBT",
        "outputId": "4b6a10a2-c225-4639-b52a-e018a03adf51"
      },
      "execution_count": 1,
      "outputs": [
        {
          "output_type": "stream",
          "name": "stdout",
          "text": [
            "Requirement already satisfied: pandas in /usr/local/lib/python3.10/dist-packages (1.5.3)\n",
            "Requirement already satisfied: scikit-learn in /usr/local/lib/python3.10/dist-packages (1.2.2)\n",
            "Requirement already satisfied: numpy in /usr/local/lib/python3.10/dist-packages (1.23.5)\n",
            "Requirement already satisfied: python-dateutil>=2.8.1 in /usr/local/lib/python3.10/dist-packages (from pandas) (2.8.2)\n",
            "Requirement already satisfied: pytz>=2020.1 in /usr/local/lib/python3.10/dist-packages (from pandas) (2023.3.post1)\n",
            "Requirement already satisfied: scipy>=1.3.2 in /usr/local/lib/python3.10/dist-packages (from scikit-learn) (1.11.4)\n",
            "Requirement already satisfied: joblib>=1.1.1 in /usr/local/lib/python3.10/dist-packages (from scikit-learn) (1.3.2)\n",
            "Requirement already satisfied: threadpoolctl>=2.0.0 in /usr/local/lib/python3.10/dist-packages (from scikit-learn) (3.2.0)\n",
            "Requirement already satisfied: six>=1.5 in /usr/local/lib/python3.10/dist-packages (from python-dateutil>=2.8.1->pandas) (1.16.0)\n"
          ]
        }
      ]
    },
    {
      "cell_type": "code",
      "source": [
        "\n",
        "\n",
        "import pandas as pd\n",
        "from sklearn.model_selection import train_test_split\n",
        "from sklearn.ensemble import RandomForestClassifier\n",
        "from sklearn.metrics import accuracy_score\n",
        "from sklearn.preprocessing import LabelEncoder\n",
        "\n",
        "# Örnek bir veri seti oluşturun\n",
        "veri_seti = [\n",
        "    {'Gıda': 'Cips', 'Yağ': 15, 'Şeker': 1, 'Tuz': 2, 'Sağlıksız': 0},\n",
        "    {'Gıda': 'Şekerli İçecek', 'Yağ': 0, 'Şeker': 20, 'Tuz': 0.01, 'Sağlıksız': 0},\n",
        "    {'Gıda': 'Kızarmış Tavuk', 'Yağ': 20, 'Şeker': 0, 'Tuz': 1, 'Sağlıksız': 0},\n",
        "    {'Gıda': 'Pizza', 'Yağ': 25, 'Şeker': 2, 'Tuz': 3, 'Sağlıksız': 0},\n",
        "    {'Gıda': 'Patates Cipsi', 'Yağ': 10, 'Şeker': 1, 'Tuz': 1.5, 'Sağlıksız': 0},\n",
        "    {'Gıda': 'Muz', 'Yağ': 0.2, 'Şeker': 15, 'Tuz': 0.1, 'Sağlıklı': 1},\n",
        "    {'Gıda': 'Badem', 'Yağ': 12, 'Şeker': 2, 'Tuz': 0.01, 'Sağlıklı': 1},\n",
        "    {'Gıda': 'Balık', 'Yağ': 5, 'Şeker': 0, 'Tuz': 0.5, 'Sağlıklı': 1},\n",
        "    {'Gıda': 'Bisküvi', 'Yağ': 8, 'Şeker': 8, 'Tuz': 0.2, 'Sağlıksız': 0},\n",
        "    {'Gıda': 'Elma', 'Yağ': 0.5, 'Şeker': 10, 'Tuz': 0.1, 'Sağlıklı': 1},\n",
        "    {'Gıda': 'Brokoli', 'Yağ': 0.2, 'Şeker': 2, 'Tuz': 0.05, 'Sağlıklı': 1},\n",
        "    {'Gıda': 'Zeytin Yağı', 'Yağ': 15, 'Şeker': 0, 'Tuz': 0, 'Sağlıklı': 1},\n",
        "    {'Gıda': 'Portakal Suyu', 'Yağ': 0, 'Şeker': 15, 'Tuz': 0.02, 'Sağlıklı': 1},\n",
        "    # Ek örnekler ekleyebilirsiniz\n",
        "]\n",
        "\n",
        "# Listeyi bir Pandas DataFrame'e dönüştürün\n",
        "veri_df = pd.DataFrame(veri_seti)\n",
        "\n",
        "# Etiketleri sayısal değerlere dönüştürün\n",
        "le = LabelEncoder()\n",
        "veri_df['Sağlıklı'] = le.fit_transform(veri_df['Sağlıklı'])\n",
        "\n",
        "# Bağımsız değişkenleri (X) ve bağımlı değişkeni (y) belirleyin\n",
        "X = veri_df[['Yağ', 'Şeker', 'Tuz']]\n",
        "y = veri_df['Sağlıklı']\n",
        "\n",
        "# Eğitim ve test veri setlerini oluşturun\n",
        "X_train, X_test, y_train, y_test = train_test_split(X, y, test_size=0.2, random_state=42)\n",
        "\n",
        "# Random Forest sınıflandırıcı modelini oluşturun\n",
        "model = RandomForestClassifier(random_state=42)\n",
        "\n",
        "# Modeli eğitin\n",
        "model.fit(X_train, y_train)\n",
        "\n",
        "# Test veri seti üzerinde modelin performansını değerlendirin\n",
        "y_pred = model.predict(X_test)\n",
        "accuracy = accuracy_score(y_test, y_pred)\n",
        "print('Model Accuracy:', accuracy)"
      ],
      "metadata": {
        "colab": {
          "base_uri": "https://localhost:8080/"
        },
        "id": "JUSelgexZrLO",
        "outputId": "350e618a-1a8e-49e5-fa67-351d82cf0dfd"
      },
      "execution_count": 17,
      "outputs": [
        {
          "output_type": "stream",
          "name": "stdout",
          "text": [
            "Model Accuracy: 1.0\n"
          ]
        }
      ]
    }
  ]
}